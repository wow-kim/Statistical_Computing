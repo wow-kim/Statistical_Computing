{
 "metadata": {
  "language_info": {
   "codemirror_mode": {
    "name": "ipython",
    "version": 3
   },
   "file_extension": ".py",
   "mimetype": "text/x-python",
   "name": "python",
   "nbconvert_exporter": "python",
   "pygments_lexer": "ipython3",
   "version": "3.8.5-final"
  },
  "orig_nbformat": 2,
  "kernelspec": {
   "name": "python3",
   "display_name": "Python 3",
   "language": "python"
  }
 },
 "nbformat": 4,
 "nbformat_minor": 2,
 "cells": [
  {
   "source": [
    "## 2장\n",
    "### 알고리즘의 복잡도"
   ],
   "cell_type": "markdown",
   "metadata": {}
  },
  {
   "cell_type": "code",
   "execution_count": 2,
   "metadata": {},
   "outputs": [],
   "source": [
    "import timeit"
   ]
  },
  {
   "cell_type": "code",
   "execution_count": 3,
   "metadata": {},
   "outputs": [],
   "source": [
    "# 피보나치 수열 - 재귀\n",
    "# 시간복잡도 : O(2^n)\n",
    "def fiborecursive(i):\n",
    "    if i <= 2:\n",
    "        value = 1\n",
    "        return(value)\n",
    "    else:\n",
    "        return(fiborecursive(i-1)+fiborecursive(i-2))\n",
    "\n",
    "# 피보나치 수열 - 반복\n",
    "# 시간복잡도 : O(n)\n",
    "def fiboiterative(i):\n",
    "    if i <= 2:\n",
    "        value = 1\n",
    "        return(value)\n",
    "    else:\n",
    "        value1 = 1\n",
    "        value2 = 1\n",
    "        for j in range(3,i+1):\n",
    "            value = value1+value2\n",
    "            value1 = value2\n",
    "            value2 = value\n",
    "        return value\n",
    "    "
   ]
  },
  {
   "cell_type": "code",
   "execution_count": 7,
   "metadata": {},
   "outputs": [
    {
     "output_type": "stream",
     "name": "stdout",
     "text": [
      "4.305587초\n"
     ]
    }
   ],
   "source": [
    "start_recur = timeit.default_timer()\n",
    "fiborecursive(35)\n",
    "terminate_recur = timeit.default_timer()\n",
    "\n",
    "print(\"%f초\" %(terminate_recur-start_recur))"
   ]
  },
  {
   "cell_type": "code",
   "execution_count": 8,
   "metadata": {},
   "outputs": [
    {
     "output_type": "stream",
     "name": "stdout",
     "text": [
      "0.000081초\n"
     ]
    }
   ],
   "source": [
    "start_iter = timeit.default_timer()\n",
    "fiboiterative(35)\n",
    "terminate_iter = timeit.default_timer()\n",
    "\n",
    "print(\"%f초\" %(terminate_iter-start_iter))"
   ]
  }
 ]
}